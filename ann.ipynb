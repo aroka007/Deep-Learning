{
  "nbformat": 4,
  "nbformat_minor": 0,
  "metadata": {
    "colab": {
      "name": "ANN",
      "provenance": [],
      "collapsed_sections": [],
      "toc_visible": true
    },
    "kernelspec": {
      "name": "python3",
      "display_name": "Python 3"
    }
  },
  "cells": [
    {
      "cell_type": "markdown",
      "metadata": {
        "id": "3cbb7fRy-eyr"
      },
      "source": [
        "# Assignment One: Artificial Neural Network"
      ]
    },
    {
      "cell_type": "markdown",
      "metadata": {
        "id": "8sNDnxE2-pwE"
      },
      "source": [
        "### Importing the libraries"
      ]
    },
    {
      "cell_type": "code",
      "metadata": {
        "id": "lxChR1Rk-umf"
      },
      "source": [
        "import numpy as np\n",
        "import pandas as pd\n",
        "import tensorflow as tf"
      ],
      "execution_count": null,
      "outputs": []
    },
    {
      "cell_type": "markdown",
      "metadata": {
        "id": "AG3FQEch-yuA"
      },
      "source": [
        "## Part 1 - Data Preprocessing"
      ]
    },
    {
      "cell_type": "markdown",
      "metadata": {
        "id": "D7XTAYkuL4NN"
      },
      "source": [
        "### Mounting Google Drive"
      ]
    },
    {
      "cell_type": "code",
      "metadata": {
        "id": "LwSGWi_bLvyd",
        "outputId": "9effb0de-5973-4ede-ea81-625e487a898f",
        "colab": {
          "base_uri": "https://localhost:8080/",
          "height": 35
        }
      },
      "source": [
        "from google.colab import drive\n",
        "drive.mount('/content/gdrive')"
      ],
      "execution_count": null,
      "outputs": [
        {
          "output_type": "stream",
          "text": [
            "Mounted at /content/gdrive\n"
          ],
          "name": "stdout"
        }
      ]
    },
    {
      "cell_type": "markdown",
      "metadata": {
        "id": "C0Jwc9UVMzJU"
      },
      "source": [
        "### Setting up directory"
      ]
    },
    {
      "cell_type": "code",
      "metadata": {
        "id": "YGJHmBXBMyNp",
        "outputId": "0efee4a1-94d9-404e-9bf7-ec3647681b99",
        "colab": {
          "base_uri": "https://localhost:8080/",
          "height": 35
        }
      },
      "source": [
        "cd gdrive/My\\ Drive/Colab Notebooks"
      ],
      "execution_count": null,
      "outputs": [
        {
          "output_type": "stream",
          "text": [
            "/content/gdrive/My Drive/Colab Notebooks\n"
          ],
          "name": "stdout"
        }
      ]
    },
    {
      "cell_type": "markdown",
      "metadata": {
        "id": "-4zq8Mza_D9O"
      },
      "source": [
        "### Importing the dataset\n"
      ]
    },
    {
      "cell_type": "code",
      "metadata": {
        "id": "B9CV13Co_HHM"
      },
      "source": [
        "dataset = pd.read_excel('Folds5x2_pp.xlsx', sheet_name=0)\n",
        "X = dataset.iloc[:, :-1].values\n",
        "y = dataset.iloc[:, -1].values"
      ],
      "execution_count": null,
      "outputs": []
    },
    {
      "cell_type": "markdown",
      "metadata": {
        "id": "VC6omXel_Up0"
      },
      "source": [
        "### Splitting the dataset into the Training set and Test set\n"
      ]
    },
    {
      "cell_type": "code",
      "metadata": {
        "id": "L5edeb2r_agx"
      },
      "source": [
        "from sklearn.model_selection import train_test_split\n",
        "X_train, X_test, y_train, y_test = train_test_split(X, y, test_size = 0.2, random_state = 0)"
      ],
      "execution_count": null,
      "outputs": []
    },
    {
      "cell_type": "markdown",
      "metadata": {
        "id": "pxyMPNF9STRh"
      },
      "source": [
        "### Feature Scaling"
      ]
    },
    {
      "cell_type": "code",
      "metadata": {
        "id": "5B2xE-WFSY9l"
      },
      "source": [
        "from sklearn.preprocessing import StandardScaler\n",
        "sc = StandardScaler()\n",
        "X_train = sc.fit_transform(X_train)\n",
        "X_test = sc.transform(X_test)"
      ],
      "execution_count": null,
      "outputs": []
    },
    {
      "cell_type": "markdown",
      "metadata": {
        "id": "_mSLlAT9_eyI"
      },
      "source": [
        "## Part 2 - Building the ANN"
      ]
    },
    {
      "cell_type": "markdown",
      "metadata": {
        "id": "CsBULd_f_wLY"
      },
      "source": [
        "### Initializing the ANN"
      ]
    },
    {
      "cell_type": "code",
      "metadata": {
        "id": "J6Hd97Ls__Nz"
      },
      "source": [
        "ann = tf.keras.models.Sequential()"
      ],
      "execution_count": null,
      "outputs": []
    },
    {
      "cell_type": "markdown",
      "metadata": {
        "id": "iitAFJS_ABUn"
      },
      "source": [
        "### Adding the input layer and the first hidden layer"
      ]
    },
    {
      "cell_type": "code",
      "metadata": {
        "id": "ksO_Vv40AHix"
      },
      "source": [
        "ann.add(tf.keras.layers.Dense(units=6, activation='relu'))"
      ],
      "execution_count": null,
      "outputs": []
    },
    {
      "cell_type": "markdown",
      "metadata": {
        "id": "-lb4kK_wAKbs"
      },
      "source": [
        "### Adding the second hidden layer"
      ]
    },
    {
      "cell_type": "code",
      "metadata": {
        "id": "c2357OqEAQOQ"
      },
      "source": [
        "ann.add(tf.keras.layers.Dense(units=6, activation='relu'))"
      ],
      "execution_count": null,
      "outputs": []
    },
    {
      "cell_type": "markdown",
      "metadata": {
        "id": "jwMOmKb3AdBY"
      },
      "source": [
        "### Adding the output layer \n",
        "\n"
      ]
    },
    {
      "cell_type": "markdown",
      "metadata": {
        "id": "C4wM5CwKTNOm"
      },
      "source": [
        "#### Leaving activiation function at default: a(x)=x"
      ]
    },
    {
      "cell_type": "code",
      "metadata": {
        "id": "YFATpzsUAkLL"
      },
      "source": [
        "ann.add(tf.keras.layers.Dense(units=1))"
      ],
      "execution_count": null,
      "outputs": []
    },
    {
      "cell_type": "markdown",
      "metadata": {
        "id": "fq7e4fF6A1yy"
      },
      "source": [
        "## Part 3 - Training the ANN"
      ]
    },
    {
      "cell_type": "markdown",
      "metadata": {
        "id": "qDeylAs2An25"
      },
      "source": [
        "### Compiling the ANN"
      ]
    },
    {
      "cell_type": "code",
      "metadata": {
        "id": "pesgbWlCAtB4"
      },
      "source": [
        "ann.compile(optimizer = 'adam', loss = 'mean_squared_error', metrics = ['mae'])"
      ],
      "execution_count": null,
      "outputs": []
    },
    {
      "cell_type": "markdown",
      "metadata": {
        "id": "YjVuiybYOo7r"
      },
      "source": [
        "### Training the ANN model on the Training set"
      ]
    },
    {
      "cell_type": "code",
      "metadata": {
        "id": "c_vV-tiiA5zn",
        "outputId": "71d78883-4546-4799-e9e0-c696d791ecb3",
        "colab": {
          "base_uri": "https://localhost:8080/",
          "height": 1000
        }
      },
      "source": [
        "ann.fit(X_train, y_train, validation_data= (X_test, y_test), batch_size = 32, epochs = 100)"
      ],
      "execution_count": null,
      "outputs": [
        {
          "output_type": "stream",
          "text": [
            "Epoch 1/100\n",
            "240/240 [==============================] - 0s 2ms/step - loss: 205640.2969 - mae: 453.1290 - val_loss: 204174.8125 - val_mae: 451.4825\n",
            "Epoch 2/100\n",
            "240/240 [==============================] - 0s 1ms/step - loss: 197172.6094 - mae: 443.5717 - val_loss: 186334.2500 - val_mae: 431.1274\n",
            "Epoch 3/100\n",
            "240/240 [==============================] - 0s 1ms/step - loss: 165859.3125 - mae: 405.9323 - val_loss: 141720.1094 - val_mae: 374.6443\n",
            "Epoch 4/100\n",
            "240/240 [==============================] - 0s 1ms/step - loss: 112775.8203 - mae: 330.5881 - val_loss: 84363.9219 - val_mae: 282.3332\n",
            "Epoch 5/100\n",
            "240/240 [==============================] - 0s 1ms/step - loss: 61342.6992 - mae: 230.6973 - val_loss: 42667.0469 - val_mae: 184.1675\n",
            "Epoch 6/100\n",
            "240/240 [==============================] - 0s 1ms/step - loss: 32811.4883 - mae: 157.1344 - val_loss: 25835.8945 - val_mae: 137.3403\n",
            "Epoch 7/100\n",
            "240/240 [==============================] - 0s 1ms/step - loss: 22988.8301 - mae: 129.7706 - val_loss: 20382.7754 - val_mae: 122.8238\n",
            "Epoch 8/100\n",
            "240/240 [==============================] - 0s 1ms/step - loss: 18893.1836 - mae: 118.0487 - val_loss: 16987.6270 - val_mae: 112.6008\n",
            "Epoch 9/100\n",
            "240/240 [==============================] - 0s 1ms/step - loss: 15672.1123 - mae: 107.7734 - val_loss: 13902.2471 - val_mae: 102.0625\n",
            "Epoch 10/100\n",
            "240/240 [==============================] - 0s 1ms/step - loss: 12636.4072 - mae: 96.8335 - val_loss: 10959.2920 - val_mae: 90.6339\n",
            "Epoch 11/100\n",
            "240/240 [==============================] - 0s 1ms/step - loss: 9780.9668 - mae: 85.0619 - val_loss: 8244.8916 - val_mae: 78.3380\n",
            "Epoch 12/100\n",
            "240/240 [==============================] - 0s 1ms/step - loss: 7177.4102 - mae: 72.4934 - val_loss: 5824.4673 - val_mae: 65.4158\n",
            "Epoch 13/100\n",
            "240/240 [==============================] - 0s 1ms/step - loss: 4926.3574 - mae: 59.5302 - val_loss: 3816.3186 - val_mae: 51.8948\n",
            "Epoch 14/100\n",
            "240/240 [==============================] - 0s 1ms/step - loss: 3124.7168 - mae: 46.1550 - val_loss: 2312.2610 - val_mae: 39.3211\n",
            "Epoch 15/100\n",
            "240/240 [==============================] - 0s 1ms/step - loss: 1853.0021 - mae: 34.3972 - val_loss: 1330.4922 - val_mae: 28.3577\n",
            "Epoch 16/100\n",
            "240/240 [==============================] - 0s 1ms/step - loss: 1078.4464 - mae: 25.0549 - val_loss: 782.3082 - val_mae: 21.2533\n",
            "Epoch 17/100\n",
            "240/240 [==============================] - 0s 1ms/step - loss: 649.2743 - mae: 19.1673 - val_loss: 487.7923 - val_mae: 16.4085\n",
            "Epoch 18/100\n",
            "240/240 [==============================] - 0s 1ms/step - loss: 417.3182 - mae: 15.2754 - val_loss: 326.7773 - val_mae: 13.3081\n",
            "Epoch 19/100\n",
            "240/240 [==============================] - 0s 1ms/step - loss: 287.2365 - mae: 12.5800 - val_loss: 231.7903 - val_mae: 11.2308\n",
            "Epoch 20/100\n",
            "240/240 [==============================] - 0s 2ms/step - loss: 207.4563 - mae: 10.6792 - val_loss: 170.1379 - val_mae: 9.4662\n",
            "Epoch 21/100\n",
            "240/240 [==============================] - 0s 1ms/step - loss: 154.5065 - mae: 9.1588 - val_loss: 127.5903 - val_mae: 8.1847\n",
            "Epoch 22/100\n",
            "240/240 [==============================] - 0s 1ms/step - loss: 118.0202 - mae: 7.9324 - val_loss: 96.7546 - val_mae: 7.1374\n",
            "Epoch 23/100\n",
            "240/240 [==============================] - 0s 1ms/step - loss: 92.3639 - mae: 6.9942 - val_loss: 75.3573 - val_mae: 6.1911\n",
            "Epoch 24/100\n",
            "240/240 [==============================] - 0s 1ms/step - loss: 73.4574 - mae: 6.1851 - val_loss: 59.8785 - val_mae: 5.5610\n",
            "Epoch 25/100\n",
            "240/240 [==============================] - 0s 1ms/step - loss: 59.5832 - mae: 5.5793 - val_loss: 48.6498 - val_mae: 5.0399\n",
            "Epoch 26/100\n",
            "240/240 [==============================] - 0s 1ms/step - loss: 49.3188 - mae: 5.0972 - val_loss: 40.4919 - val_mae: 4.5673\n",
            "Epoch 27/100\n",
            "240/240 [==============================] - 0s 1ms/step - loss: 41.7854 - mae: 4.7072 - val_loss: 34.7847 - val_mae: 4.2543\n",
            "Epoch 28/100\n",
            "240/240 [==============================] - 0s 1ms/step - loss: 36.2210 - mae: 4.4292 - val_loss: 30.2965 - val_mae: 4.0743\n",
            "Epoch 29/100\n",
            "240/240 [==============================] - 0s 1ms/step - loss: 32.0879 - mae: 4.2215 - val_loss: 27.5004 - val_mae: 3.9098\n",
            "Epoch 30/100\n",
            "240/240 [==============================] - 0s 1ms/step - loss: 29.0707 - mae: 4.0659 - val_loss: 25.2439 - val_mae: 3.8439\n",
            "Epoch 31/100\n",
            "240/240 [==============================] - 0s 1ms/step - loss: 26.9584 - mae: 3.9654 - val_loss: 23.6474 - val_mae: 3.7478\n",
            "Epoch 32/100\n",
            "240/240 [==============================] - 0s 1ms/step - loss: 25.4814 - mae: 3.8914 - val_loss: 22.8027 - val_mae: 3.7106\n",
            "Epoch 33/100\n",
            "240/240 [==============================] - 0s 1ms/step - loss: 24.4249 - mae: 3.8379 - val_loss: 22.0483 - val_mae: 3.6796\n",
            "Epoch 34/100\n",
            "240/240 [==============================] - 0s 1ms/step - loss: 23.6351 - mae: 3.7937 - val_loss: 21.7443 - val_mae: 3.6530\n",
            "Epoch 35/100\n",
            "240/240 [==============================] - 0s 1ms/step - loss: 23.1170 - mae: 3.7638 - val_loss: 21.1364 - val_mae: 3.6343\n",
            "Epoch 36/100\n",
            "240/240 [==============================] - 0s 1ms/step - loss: 22.6578 - mae: 3.7389 - val_loss: 21.1046 - val_mae: 3.6376\n",
            "Epoch 37/100\n",
            "240/240 [==============================] - 0s 1ms/step - loss: 22.3697 - mae: 3.7244 - val_loss: 20.8938 - val_mae: 3.6379\n",
            "Epoch 38/100\n",
            "240/240 [==============================] - 0s 1ms/step - loss: 22.1388 - mae: 3.7093 - val_loss: 20.6059 - val_mae: 3.6016\n",
            "Epoch 39/100\n",
            "240/240 [==============================] - 0s 1ms/step - loss: 22.0023 - mae: 3.6942 - val_loss: 20.4792 - val_mae: 3.6129\n",
            "Epoch 40/100\n",
            "240/240 [==============================] - 0s 1ms/step - loss: 21.7994 - mae: 3.6817 - val_loss: 20.5500 - val_mae: 3.5914\n",
            "Epoch 41/100\n",
            "240/240 [==============================] - 0s 1ms/step - loss: 21.8147 - mae: 3.6888 - val_loss: 20.1801 - val_mae: 3.5887\n",
            "Epoch 42/100\n",
            "240/240 [==============================] - 0s 1ms/step - loss: 21.6802 - mae: 3.6790 - val_loss: 20.1554 - val_mae: 3.5819\n",
            "Epoch 43/100\n",
            "240/240 [==============================] - 0s 1ms/step - loss: 21.6959 - mae: 3.6806 - val_loss: 20.3731 - val_mae: 3.6269\n",
            "Epoch 44/100\n",
            "240/240 [==============================] - 0s 1ms/step - loss: 21.5714 - mae: 3.6738 - val_loss: 20.3902 - val_mae: 3.6295\n",
            "Epoch 45/100\n",
            "240/240 [==============================] - 0s 1ms/step - loss: 21.5547 - mae: 3.6748 - val_loss: 20.6272 - val_mae: 3.6604\n",
            "Epoch 46/100\n",
            "240/240 [==============================] - 0s 1ms/step - loss: 21.6113 - mae: 3.6794 - val_loss: 20.0561 - val_mae: 3.5709\n",
            "Epoch 47/100\n",
            "240/240 [==============================] - 0s 1ms/step - loss: 21.5212 - mae: 3.6728 - val_loss: 20.8683 - val_mae: 3.6817\n",
            "Epoch 48/100\n",
            "240/240 [==============================] - 0s 1ms/step - loss: 21.4441 - mae: 3.6703 - val_loss: 20.0114 - val_mae: 3.5747\n",
            "Epoch 49/100\n",
            "240/240 [==============================] - 0s 1ms/step - loss: 21.5145 - mae: 3.6724 - val_loss: 20.8009 - val_mae: 3.6540\n",
            "Epoch 50/100\n",
            "240/240 [==============================] - 0s 1ms/step - loss: 21.5474 - mae: 3.6769 - val_loss: 20.8481 - val_mae: 3.6801\n",
            "Epoch 51/100\n",
            "240/240 [==============================] - 0s 1ms/step - loss: 21.4210 - mae: 3.6672 - val_loss: 20.1309 - val_mae: 3.5972\n",
            "Epoch 52/100\n",
            "240/240 [==============================] - 0s 1ms/step - loss: 21.6025 - mae: 3.6888 - val_loss: 20.1735 - val_mae: 3.6218\n",
            "Epoch 53/100\n",
            "240/240 [==============================] - 0s 1ms/step - loss: 21.5491 - mae: 3.6859 - val_loss: 20.0855 - val_mae: 3.5913\n",
            "Epoch 54/100\n",
            "240/240 [==============================] - 0s 1ms/step - loss: 21.5588 - mae: 3.6804 - val_loss: 20.7582 - val_mae: 3.6244\n",
            "Epoch 55/100\n",
            "240/240 [==============================] - 0s 1ms/step - loss: 21.4880 - mae: 3.6711 - val_loss: 19.9729 - val_mae: 3.5648\n",
            "Epoch 56/100\n",
            "240/240 [==============================] - 0s 1ms/step - loss: 21.4433 - mae: 3.6678 - val_loss: 20.1412 - val_mae: 3.5605\n",
            "Epoch 57/100\n",
            "240/240 [==============================] - 0s 1ms/step - loss: 21.5423 - mae: 3.6785 - val_loss: 19.9056 - val_mae: 3.5673\n",
            "Epoch 58/100\n",
            "240/240 [==============================] - 0s 1ms/step - loss: 21.5850 - mae: 3.6853 - val_loss: 19.9011 - val_mae: 3.5741\n",
            "Epoch 59/100\n",
            "240/240 [==============================] - 0s 1ms/step - loss: 21.4068 - mae: 3.6697 - val_loss: 19.9994 - val_mae: 3.5733\n",
            "Epoch 60/100\n",
            "240/240 [==============================] - 0s 1ms/step - loss: 21.4228 - mae: 3.6719 - val_loss: 19.8250 - val_mae: 3.5770\n",
            "Epoch 61/100\n",
            "240/240 [==============================] - 0s 1ms/step - loss: 21.3793 - mae: 3.6658 - val_loss: 19.8651 - val_mae: 3.5862\n",
            "Epoch 62/100\n",
            "240/240 [==============================] - 0s 1ms/step - loss: 21.3771 - mae: 3.6727 - val_loss: 19.9834 - val_mae: 3.5858\n",
            "Epoch 63/100\n",
            "240/240 [==============================] - 0s 1ms/step - loss: 21.3586 - mae: 3.6656 - val_loss: 20.1798 - val_mae: 3.5751\n",
            "Epoch 64/100\n",
            "240/240 [==============================] - 0s 1ms/step - loss: 21.3740 - mae: 3.6599 - val_loss: 20.2054 - val_mae: 3.6213\n",
            "Epoch 65/100\n",
            "240/240 [==============================] - 0s 1ms/step - loss: 21.3886 - mae: 3.6641 - val_loss: 20.7482 - val_mae: 3.6840\n",
            "Epoch 66/100\n",
            "240/240 [==============================] - 0s 1ms/step - loss: 21.4508 - mae: 3.6728 - val_loss: 20.0188 - val_mae: 3.6135\n",
            "Epoch 67/100\n",
            "240/240 [==============================] - 0s 1ms/step - loss: 21.3689 - mae: 3.6727 - val_loss: 19.7567 - val_mae: 3.5602\n",
            "Epoch 68/100\n",
            "240/240 [==============================] - 0s 1ms/step - loss: 21.2464 - mae: 3.6585 - val_loss: 20.0436 - val_mae: 3.6145\n",
            "Epoch 69/100\n",
            "240/240 [==============================] - 0s 1ms/step - loss: 21.2984 - mae: 3.6590 - val_loss: 21.4062 - val_mae: 3.6594\n",
            "Epoch 70/100\n",
            "240/240 [==============================] - 0s 1ms/step - loss: 21.4325 - mae: 3.6704 - val_loss: 19.9524 - val_mae: 3.5486\n",
            "Epoch 71/100\n",
            "240/240 [==============================] - 0s 1ms/step - loss: 21.3266 - mae: 3.6568 - val_loss: 19.7936 - val_mae: 3.5683\n",
            "Epoch 72/100\n",
            "240/240 [==============================] - 0s 1ms/step - loss: 21.2999 - mae: 3.6580 - val_loss: 20.1283 - val_mae: 3.5561\n",
            "Epoch 73/100\n",
            "240/240 [==============================] - 0s 1ms/step - loss: 21.3279 - mae: 3.6660 - val_loss: 19.9410 - val_mae: 3.5552\n",
            "Epoch 74/100\n",
            "240/240 [==============================] - 0s 1ms/step - loss: 21.3953 - mae: 3.6657 - val_loss: 19.7914 - val_mae: 3.5668\n",
            "Epoch 75/100\n",
            "240/240 [==============================] - 0s 1ms/step - loss: 21.3598 - mae: 3.6633 - val_loss: 19.9137 - val_mae: 3.5585\n",
            "Epoch 76/100\n",
            "240/240 [==============================] - 0s 1ms/step - loss: 21.3851 - mae: 3.6609 - val_loss: 19.8217 - val_mae: 3.5480\n",
            "Epoch 77/100\n",
            "240/240 [==============================] - 0s 1ms/step - loss: 21.2944 - mae: 3.6602 - val_loss: 19.7546 - val_mae: 3.5697\n",
            "Epoch 78/100\n",
            "240/240 [==============================] - 0s 1ms/step - loss: 21.3671 - mae: 3.6656 - val_loss: 19.6997 - val_mae: 3.5589\n",
            "Epoch 79/100\n",
            "240/240 [==============================] - 0s 1ms/step - loss: 21.3592 - mae: 3.6670 - val_loss: 19.9747 - val_mae: 3.5537\n",
            "Epoch 80/100\n",
            "240/240 [==============================] - 0s 1ms/step - loss: 21.2447 - mae: 3.6529 - val_loss: 19.9570 - val_mae: 3.5852\n",
            "Epoch 81/100\n",
            "240/240 [==============================] - 0s 1ms/step - loss: 21.3828 - mae: 3.6635 - val_loss: 19.7746 - val_mae: 3.5814\n",
            "Epoch 82/100\n",
            "240/240 [==============================] - 0s 1ms/step - loss: 21.2979 - mae: 3.6574 - val_loss: 20.4701 - val_mae: 3.6591\n",
            "Epoch 83/100\n",
            "240/240 [==============================] - 0s 1ms/step - loss: 21.2540 - mae: 3.6556 - val_loss: 19.7328 - val_mae: 3.5574\n",
            "Epoch 84/100\n",
            "240/240 [==============================] - 0s 1ms/step - loss: 21.2713 - mae: 3.6492 - val_loss: 20.9082 - val_mae: 3.6254\n",
            "Epoch 85/100\n",
            "240/240 [==============================] - 0s 1ms/step - loss: 21.3005 - mae: 3.6612 - val_loss: 19.8439 - val_mae: 3.5942\n",
            "Epoch 86/100\n",
            "240/240 [==============================] - 0s 1ms/step - loss: 21.2881 - mae: 3.6585 - val_loss: 19.9154 - val_mae: 3.5709\n",
            "Epoch 87/100\n",
            "240/240 [==============================] - 0s 1ms/step - loss: 21.2745 - mae: 3.6569 - val_loss: 19.7299 - val_mae: 3.5562\n",
            "Epoch 88/100\n",
            "240/240 [==============================] - 0s 1ms/step - loss: 21.2838 - mae: 3.6508 - val_loss: 19.7195 - val_mae: 3.5644\n",
            "Epoch 89/100\n",
            "240/240 [==============================] - 0s 1ms/step - loss: 21.2735 - mae: 3.6567 - val_loss: 19.8955 - val_mae: 3.5762\n",
            "Epoch 90/100\n",
            "240/240 [==============================] - 0s 1ms/step - loss: 21.4001 - mae: 3.6714 - val_loss: 20.3534 - val_mae: 3.6372\n",
            "Epoch 91/100\n",
            "240/240 [==============================] - 0s 1ms/step - loss: 21.3315 - mae: 3.6665 - val_loss: 20.3407 - val_mae: 3.6284\n",
            "Epoch 92/100\n",
            "240/240 [==============================] - 0s 1ms/step - loss: 21.2648 - mae: 3.6607 - val_loss: 19.6820 - val_mae: 3.5582\n",
            "Epoch 93/100\n",
            "240/240 [==============================] - 0s 1ms/step - loss: 21.1698 - mae: 3.6524 - val_loss: 19.8780 - val_mae: 3.5714\n",
            "Epoch 94/100\n",
            "240/240 [==============================] - 0s 1ms/step - loss: 21.1442 - mae: 3.6484 - val_loss: 19.7254 - val_mae: 3.5777\n",
            "Epoch 95/100\n",
            "240/240 [==============================] - 0s 1ms/step - loss: 21.2391 - mae: 3.6544 - val_loss: 19.6777 - val_mae: 3.5492\n",
            "Epoch 96/100\n",
            "240/240 [==============================] - 0s 1ms/step - loss: 21.2448 - mae: 3.6544 - val_loss: 20.4180 - val_mae: 3.6563\n",
            "Epoch 97/100\n",
            "240/240 [==============================] - 0s 1ms/step - loss: 21.2363 - mae: 3.6511 - val_loss: 19.7304 - val_mae: 3.5597\n",
            "Epoch 98/100\n",
            "240/240 [==============================] - 0s 1ms/step - loss: 21.3755 - mae: 3.6677 - val_loss: 20.5888 - val_mae: 3.5739\n",
            "Epoch 99/100\n",
            "240/240 [==============================] - 0s 1ms/step - loss: 21.2888 - mae: 3.6509 - val_loss: 19.8793 - val_mae: 3.5851\n",
            "Epoch 100/100\n",
            "240/240 [==============================] - 0s 1ms/step - loss: 21.3219 - mae: 3.6636 - val_loss: 20.2795 - val_mae: 3.5962\n"
          ],
          "name": "stdout"
        },
        {
          "output_type": "execute_result",
          "data": {
            "text/plain": [
              "<tensorflow.python.keras.callbacks.History at 0x7faabc90f828>"
            ]
          },
          "metadata": {
            "tags": []
          },
          "execution_count": 12
        }
      ]
    },
    {
      "cell_type": "code",
      "metadata": {
        "id": "OS20v2hvZdca"
      },
      "source": [
        ""
      ],
      "execution_count": null,
      "outputs": []
    },
    {
      "cell_type": "markdown",
      "metadata": {
        "id": "VQ7ORuUJUbMQ"
      },
      "source": [
        "#### The loss value is the mean_square_error; the mae value is the mean_absolute_error."
      ]
    },
    {
      "cell_type": "markdown",
      "metadata": {
        "id": "0H0zKKNEBLD5"
      },
      "source": [
        "## Part 4 - Predicting the results of the data from **Sheet2**"
      ]
    },
    {
      "cell_type": "markdown",
      "metadata": {
        "id": "TvG2uV_VVogh"
      },
      "source": [
        "### Importing the new dataset"
      ]
    },
    {
      "cell_type": "code",
      "metadata": {
        "id": "x4yVnJv3VS6t"
      },
      "source": [
        "data_new = pd.read_excel('Folds5x2_pp.xlsx', sheet_name=1)\n",
        "X_new = data_new.iloc[:, :-1].values\n",
        "y_new = data_new.iloc[:, -1].values"
      ],
      "execution_count": null,
      "outputs": []
    },
    {
      "cell_type": "markdown",
      "metadata": {
        "id": "GYC_Th38WpN_"
      },
      "source": [
        "### Predicting the new data results"
      ]
    },
    {
      "cell_type": "code",
      "metadata": {
        "id": "IA0yApEmBG1X",
        "outputId": "192dc558-0cb1-4c1b-fe64-21ecf25d7505",
        "colab": {
          "base_uri": "https://localhost:8080/",
          "height": 146
        }
      },
      "source": [
        "y_pred = ann.predict(sc.transform(X_new))\n",
        "np.set_printoptions(precision=2)\n",
        "print(np.concatenate((y_pred.reshape(len(y_pred),1), y_new.reshape(len(y_new),1)),1))"
      ],
      "execution_count": null,
      "outputs": [
        {
          "output_type": "stream",
          "text": [
            "[[481.5  481.3 ]\n",
            " [470.47 465.36]\n",
            " [468.39 465.48]\n",
            " ...\n",
            " [434.53 429.34]\n",
            " [444.34 421.57]\n",
            " [461.96 454.41]]\n"
          ],
          "name": "stdout"
        }
      ]
    }
  ]
}
