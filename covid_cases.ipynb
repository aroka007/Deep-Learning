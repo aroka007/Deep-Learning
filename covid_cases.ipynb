{
  "nbformat": 4,
  "nbformat_minor": 0,
  "metadata": {
    "colab": {
      "name": "a3_<AR>.ipynb",
      "provenance": [],
      "collapsed_sections": [],
      "toc_visible": true,
      "include_colab_link": true
    },
    "kernelspec": {
      "name": "python3",
      "display_name": "Python 3"
    }
  },
  "cells": [
    {
      "cell_type": "markdown",
      "metadata": {
        "id": "view-in-github",
        "colab_type": "text"
      },
      "source": [
        "<a href=\"https://colab.research.google.com/github/aroka007/Deep-Learning/blob/main/covid_cases.ipynb\" target=\"_parent\"><img src=\"https://colab.research.google.com/assets/colab-badge.svg\" alt=\"Open In Colab\"/></a>"
      ]
    },
    {
      "cell_type": "markdown",
      "metadata": {
        "id": "xpAuMVCwfWs8"
      },
      "source": [
        "# A3 Recurrent Neural Network\n",
        "\n",
        "> Indented block\n",
        "\n",
        "\n",
        "##Adhiraj Roka"
      ]
    },
    {
      "cell_type": "markdown",
      "metadata": {
        "id": "ir9zwETrfbrp"
      },
      "source": [
        "### Importing the libraries"
      ]
    },
    {
      "cell_type": "code",
      "metadata": {
        "id": "ZT1f24vHffuf"
      },
      "source": [
        "import numpy as np\n",
        "import matplotlib.pyplot as plt\n",
        "import pandas as pd\n",
        "import math\n",
        "import tensorflow as tf\n",
        "from keras.models import Sequential\n",
        "from keras.layers import Dense\n",
        "from keras.layers import LSTM\n",
        "from keras.layers import Dropout\n",
        "from sklearn.metrics import mean_squared_error\n"
      ],
      "execution_count": null,
      "outputs": []
    },
    {
      "cell_type": "markdown",
      "metadata": {
        "id": "nQ47JAxrgmaL"
      },
      "source": [
        "### Importing the  dataset"
      ]
    },
    {
      "cell_type": "code",
      "metadata": {
        "id": "1xiv3pJOgqY3",
        "outputId": "b5615090-fcb4-46f0-8939-ef6ec03a72ac",
        "colab": {
          "base_uri": "https://localhost:8080/",
          "height": 289
        }
      },
      "source": [
        "covid = pd.read_csv('https://raw.githubusercontent.com/nytimes/covid-19-data/master/us.csv')\n",
        "#total= 265 observations 10/12/2020\n",
        "print(covid)\n",
        "#Train-1st(90%)\n",
        "train_size= int(len(covid)*.9)\n",
        "test_size= len(covid)-train_size\n",
        "\n",
        "print(train_size)\n",
        "print(test_size)\n",
        "train= covid.iloc[0:train_size,1:2].values\n",
        "\n",
        "#Test- last (10%)\n",
        "\n",
        "test=covid.iloc[train_size:len(covid),1:2].values\n",
        "# print(train)\n",
        "# print(test)"
      ],
      "execution_count": null,
      "outputs": [
        {
          "output_type": "stream",
          "text": [
            "           date    cases  deaths\n",
            "0    2020-01-21        1       0\n",
            "1    2020-01-22        1       0\n",
            "2    2020-01-23        1       0\n",
            "3    2020-01-24        2       0\n",
            "4    2020-01-25        3       0\n",
            "..          ...      ...     ...\n",
            "261  2020-10-08  7639252  212678\n",
            "262  2020-10-09  7698203  213593\n",
            "263  2020-10-10  7749789  214185\n",
            "264  2020-10-11  7794555  214604\n",
            "265  2020-10-12  7840482  214955\n",
            "\n",
            "[266 rows x 3 columns]\n",
            "239\n",
            "27\n"
          ],
          "name": "stdout"
        }
      ]
    },
    {
      "cell_type": "markdown",
      "metadata": {
        "id": "HT8_2UJegtG5"
      },
      "source": [
        "### Feature Scaling"
      ]
    },
    {
      "cell_type": "code",
      "metadata": {
        "id": "OTrF2kR7gx9x"
      },
      "source": [
        "#Apply normalization for LSTM\n",
        "from sklearn.preprocessing import MinMaxScaler\n",
        "sc = MinMaxScaler(feature_range = (0, 1))\n",
        "training_set_scaled = sc.fit_transform(train)"
      ],
      "execution_count": null,
      "outputs": []
    },
    {
      "cell_type": "code",
      "metadata": {
        "id": "guPnSELdHfy0",
        "outputId": "3256cbc2-2eb5-4903-b9d1-f3dcb3047a8a",
        "colab": {
          "base_uri": "https://localhost:8080/",
          "height": 1000
        }
      },
      "source": [
        "print(training_set_scaled)"
      ],
      "execution_count": null,
      "outputs": [
        {
          "output_type": "stream",
          "text": [
            "[[0.00000000e+00]\n",
            " [0.00000000e+00]\n",
            " [0.00000000e+00]\n",
            " [1.51187213e-07]\n",
            " [3.02374425e-07]\n",
            " [6.04748851e-07]\n",
            " [6.04748851e-07]\n",
            " [6.04748851e-07]\n",
            " [6.04748851e-07]\n",
            " [7.55936064e-07]\n",
            " [9.07123276e-07]\n",
            " [1.05831049e-06]\n",
            " [1.51187213e-06]\n",
            " [1.51187213e-06]\n",
            " [1.51187213e-06]\n",
            " [1.66305934e-06]\n",
            " [1.66305934e-06]\n",
            " [1.66305934e-06]\n",
            " [1.66305934e-06]\n",
            " [1.66305934e-06]\n",
            " [1.81424655e-06]\n",
            " [1.81424655e-06]\n",
            " [1.96543377e-06]\n",
            " [2.11662098e-06]\n",
            " [2.11662098e-06]\n",
            " [2.11662098e-06]\n",
            " [2.11662098e-06]\n",
            " [3.62849310e-06]\n",
            " [3.62849310e-06]\n",
            " [3.62849310e-06]\n",
            " [3.93086753e-06]\n",
            " [4.38442917e-06]\n",
            " [4.38442917e-06]\n",
            " [4.38442917e-06]\n",
            " [6.34986293e-06]\n",
            " [6.65223736e-06]\n",
            " [8.92004555e-06]\n",
            " [8.92004555e-06]\n",
            " [9.67598161e-06]\n",
            " [1.04319177e-05]\n",
            " [1.31532875e-05]\n",
            " [1.55722829e-05]\n",
            " [1.87472144e-05]\n",
            " [2.41899540e-05]\n",
            " [3.43194973e-05]\n",
            " [4.68680359e-05]\n",
            " [6.45569398e-05]\n",
            " [8.25482181e-05]\n",
            " [1.12936848e-04]\n",
            " [1.53757395e-04]\n",
            " [1.90798262e-04]\n",
            " [2.52029084e-04]\n",
            " [3.36089174e-04]\n",
            " [4.37989355e-04]\n",
            " [5.44122779e-04]\n",
            " [6.81249580e-04]\n",
            " [8.92760491e-04]\n",
            " [1.26226204e-03]\n",
            " [1.87351194e-03]\n",
            " [2.72303289e-03]\n",
            " [3.70816877e-03]\n",
            " [5.00006350e-03]\n",
            " [6.57724850e-03]\n",
            " [8.15458469e-03]\n",
            " [1.03670584e-02]\n",
            " [1.29369386e-02]\n",
            " [1.55570130e-02]\n",
            " [1.87419228e-02]\n",
            " [2.15419100e-02]\n",
            " [2.47877483e-02]\n",
            " [2.84927421e-02]\n",
            " [3.25642137e-02]\n",
            " [3.70570441e-02]\n",
            " [4.19431125e-02]\n",
            " [4.72496325e-02]\n",
            " [5.11224441e-02]\n",
            " [5.57965480e-02]\n",
            " [6.03831144e-02]\n",
            " [6.51938916e-02]\n",
            " [7.04399366e-02]\n",
            " [7.55006262e-02]\n",
            " [8.02962846e-02]\n",
            " [8.43999591e-02]\n",
            " [8.82959024e-02]\n",
            " [9.23312403e-02]\n",
            " [9.68718459e-02]\n",
            " [1.01651327e-01]\n",
            " [1.06415085e-01]\n",
            " [1.10708500e-01]\n",
            " [1.14538676e-01]\n",
            " [1.18680450e-01]\n",
            " [1.22537841e-01]\n",
            " [1.26896719e-01]\n",
            " [1.32003218e-01]\n",
            " [1.37557988e-01]\n",
            " [1.42760037e-01]\n",
            " [1.46802028e-01]\n",
            " [1.50309117e-01]\n",
            " [1.54036033e-01]\n",
            " [1.58050810e-01]\n",
            " [1.62640400e-01]\n",
            " [1.67776230e-01]\n",
            " [1.72232322e-01]\n",
            " [1.76184355e-01]\n",
            " [1.79504729e-01]\n",
            " [1.83089226e-01]\n",
            " [1.86793918e-01]\n",
            " [1.91099427e-01]\n",
            " [1.95279451e-01]\n",
            " [1.99039175e-01]\n",
            " [2.02110846e-01]\n",
            " [2.04774916e-01]\n",
            " [2.08146390e-01]\n",
            " [2.11343244e-01]\n",
            " [2.15419402e-01]\n",
            " [2.19386101e-01]\n",
            " [2.22962888e-01]\n",
            " [2.25837411e-01]\n",
            " [2.29136921e-01]\n",
            " [2.32307165e-01]\n",
            " [2.35794449e-01]\n",
            " [2.39684799e-01]\n",
            " [2.43282299e-01]\n",
            " [2.46649087e-01]\n",
            " [2.49677518e-01]\n",
            " [2.52565193e-01]\n",
            " [2.55421573e-01]\n",
            " [2.58255124e-01]\n",
            " [2.61658348e-01]\n",
            " [2.65369692e-01]\n",
            " [2.68907019e-01]\n",
            " [2.72026616e-01]\n",
            " [2.75337011e-01]\n",
            " [2.78479589e-01]\n",
            " [2.81501216e-01]\n",
            " [2.84769128e-01]\n",
            " [2.89109259e-01]\n",
            " [2.92512484e-01]\n",
            " [2.95326833e-01]\n",
            " [2.98079197e-01]\n",
            " [3.00922272e-01]\n",
            " [3.04376900e-01]\n",
            " [3.07884595e-01]\n",
            " [3.11738659e-01]\n",
            " [3.15568836e-01]\n",
            " [3.18461047e-01]\n",
            " [3.21502480e-01]\n",
            " [3.25264472e-01]\n",
            " [3.29142877e-01]\n",
            " [3.33385039e-01]\n",
            " [3.38046897e-01]\n",
            " [3.42888668e-01]\n",
            " [3.46876835e-01]\n",
            " [3.51482753e-01]\n",
            " [3.56783226e-01]\n",
            " [3.62374129e-01]\n",
            " [3.68598960e-01]\n",
            " [3.75482212e-01]\n",
            " [3.81877280e-01]\n",
            " [3.87850082e-01]\n",
            " [3.93821069e-01]\n",
            " [4.01136263e-01]\n",
            " [4.08691844e-01]\n",
            " [4.17091352e-01]\n",
            " [4.25732154e-01]\n",
            " [4.33292271e-01]\n",
            " [4.40059864e-01]\n",
            " [4.47213287e-01]\n",
            " [4.55388433e-01]\n",
            " [4.64376815e-01]\n",
            " [4.73430813e-01]\n",
            " [4.83745409e-01]\n",
            " [4.92924892e-01]\n",
            " [5.01664269e-01]\n",
            " [5.10972412e-01]\n",
            " [5.20889840e-01]\n",
            " [5.31221369e-01]\n",
            " [5.42663520e-01]\n",
            " [5.53386019e-01]\n",
            " [5.62827358e-01]\n",
            " [5.72242542e-01]\n",
            " [5.81296842e-01]\n",
            " [5.91164226e-01]\n",
            " [6.01707569e-01]\n",
            " [6.12291278e-01]\n",
            " [6.23407016e-01]\n",
            " [6.33502693e-01]\n",
            " [6.41699610e-01]\n",
            " [6.50647021e-01]\n",
            " [6.60188446e-01]\n",
            " [6.70259782e-01]\n",
            " [6.80708481e-01]\n",
            " [6.91153704e-01]\n",
            " [6.99744010e-01]\n",
            " [7.07423262e-01]\n",
            " [7.14601933e-01]\n",
            " [7.22697555e-01]\n",
            " [7.30818878e-01]\n",
            " [7.39541322e-01]\n",
            " [7.48787479e-01]\n",
            " [7.57139060e-01]\n",
            " [7.64468616e-01]\n",
            " [7.71600571e-01]\n",
            " [7.79667467e-01]\n",
            " [7.87873606e-01]\n",
            " [7.96046938e-01]\n",
            " [8.05039100e-01]\n",
            " [8.12710793e-01]\n",
            " [8.19081368e-01]\n",
            " [8.24754366e-01]\n",
            " [8.31290643e-01]\n",
            " [8.37793658e-01]\n",
            " [8.44752655e-01]\n",
            " [8.52165213e-01]\n",
            " [8.58972568e-01]\n",
            " [8.63860904e-01]\n",
            " [8.69969472e-01]\n",
            " [8.75893441e-01]\n",
            " [8.82745094e-01]\n",
            " [8.89640743e-01]\n",
            " [8.96680624e-01]\n",
            " [9.03425086e-01]\n",
            " [9.08479274e-01]\n",
            " [9.13995340e-01]\n",
            " [9.20654985e-01]\n",
            " [9.25560103e-01]\n",
            " [9.32574283e-01]\n",
            " [9.40451741e-01]\n",
            " [9.46840006e-01]\n",
            " [9.51375471e-01]\n",
            " [9.55180248e-01]\n",
            " [9.59555758e-01]\n",
            " [9.64595130e-01]\n",
            " [9.70349315e-01]\n",
            " [9.77540988e-01]\n",
            " [9.83453013e-01]\n",
            " [9.88494048e-01]\n",
            " [9.94070891e-01]\n",
            " [1.00000000e+00]]\n"
          ],
          "name": "stdout"
        }
      ]
    },
    {
      "cell_type": "markdown",
      "metadata": {
        "id": "JyYgYocqhNUg"
      },
      "source": [
        "### Creating a data structure with 30 timesteps and 1 output\n",
        "\n"
      ]
    },
    {
      "cell_type": "markdown",
      "metadata": {
        "id": "R7-RJE8JWsvt"
      },
      "source": [
        "### Training data"
      ]
    },
    {
      "cell_type": "code",
      "metadata": {
        "id": "iofU21B0i6ST"
      },
      "source": [
        "X_train = []\n",
        "y_train = []\n",
        "for i in range(30, train_size):##train size is 239 here \n",
        "    X_train.append(training_set_scaled[i-30:i, 0]) #0-30,1-31 ##\n",
        "    y_train.append(training_set_scaled[i, 0]) #predict t+1\n",
        "X_train, y_train = np.array(X_train), np.array(y_train)"
      ],
      "execution_count": null,
      "outputs": []
    },
    {
      "cell_type": "markdown",
      "metadata": {
        "id": "Albzz0tyWxhE"
      },
      "source": [
        "###Testing data"
      ]
    },
    {
      "cell_type": "code",
      "metadata": {
        "id": "P3TfWK5GNREB",
        "outputId": "68637fd1-79d3-484d-963d-f977fe6faefe",
        "colab": {
          "base_uri": "https://localhost:8080/",
          "height": 221
        }
      },
      "source": [
        "# print(X_train) \n",
        "# print(y_train)\n",
        "covid_cases=covid[\"cases\"]\n",
        "covid_cases\n",
        "\n",
        "#len(test)"
      ],
      "execution_count": null,
      "outputs": [
        {
          "output_type": "execute_result",
          "data": {
            "text/plain": [
              "0            1\n",
              "1            1\n",
              "2            1\n",
              "3            2\n",
              "4            3\n",
              "        ...   \n",
              "261    7639252\n",
              "262    7698203\n",
              "263    7749789\n",
              "264    7794555\n",
              "265    7840482\n",
              "Name: cases, Length: 266, dtype: int64"
            ]
          },
          "metadata": {
            "tags": []
          },
          "execution_count": 39
        }
      ]
    },
    {
      "cell_type": "code",
      "metadata": {
        "id": "7ho1TBDLMkgT"
      },
      "source": [
        "inputs= covid_cases[len(covid_cases)-len(test)-30:].values ##$$$$##\n",
        "inputs=inputs.reshape(-1,1)\n",
        "inputs = sc.transform(inputs)\n",
        "X_test = []\n",
        "y_test= []\n",
        "for i in range(30,57): #30+27=57\n",
        "    X_test.append(inputs[i-30:i, 0]) ##\n",
        "    y_test.append(inputs[i,0])\n",
        "X_test, y_test = np.array(X_test), np.array(y_test)\n"
      ],
      "execution_count": null,
      "outputs": []
    },
    {
      "cell_type": "markdown",
      "metadata": {
        "id": "D8yaN7Zvi95l"
      },
      "source": [
        "### Reshaping"
      ]
    },
    {
      "cell_type": "code",
      "metadata": {
        "id": "FOXqJHmNjBkz"
      },
      "source": [
        "X_train = np.reshape( X_train, (X_train.shape[0], X_train.shape[1], 1)) #x_train.shape is number of row an dcolumns, 1 in last is predictor\n",
        "\n",
        "X_test = np.reshape(X_test, (X_test.shape[0], X_test.shape[1], 1))\n",
        "\n",
        "# print(X_train)\n",
        "# print(X_test)"
      ],
      "execution_count": null,
      "outputs": []
    },
    {
      "cell_type": "markdown",
      "metadata": {
        "id": "ZRRSOJeVjEWV"
      },
      "source": [
        "## Building and Training the RNN"
      ]
    },
    {
      "cell_type": "markdown",
      "metadata": {
        "id": "62eg1OPGjT8z"
      },
      "source": [
        "#Layers "
      ]
    },
    {
      "cell_type": "code",
      "metadata": {
        "id": "2hIinyXUjbVU",
        "outputId": "b97e983f-5a42-4f54-90c1-e18eb5dd48b0",
        "colab": {
          "base_uri": "https://localhost:8080/",
          "height": 1000
        }
      },
      "source": [
        "tf.random.set_seed(123)\n",
        "\n",
        "#Initialize\n",
        "regressor = Sequential()\n",
        "\n",
        "regressor.add(LSTM(units = 60, return_sequences = True, input_shape = (X_train.shape[1], 1))) #units is hidden numbers/neurons\n",
        "regressor.add(Dropout(0.2))\n",
        "\n",
        "regressor.add(LSTM(units = 60, return_sequences = True))\n",
        "regressor.add(Dropout(0.2))\n",
        "\n",
        "regressor.add(LSTM(units = 60, return_sequences = True))\n",
        "regressor.add(Dropout(0.2))\n",
        "\n",
        "regressor.add(LSTM(units = 60))\n",
        "regressor.add(Dropout(0.2))\n",
        "\n",
        "#Output\n",
        "regressor.add(Dense(units = 1))\n",
        "\n",
        "#Compile and Fit\n",
        "regressor.compile(optimizer = 'adam', loss = 'mean_squared_error')\n",
        "regressor.fit(X_train, y_train, epochs = 100, batch_size = 32,\n",
        "              validation_data=(X_test, y_test))"
      ],
      "execution_count": null,
      "outputs": [
        {
          "output_type": "stream",
          "text": [
            "Epoch 1/100\n",
            "7/7 [==============================] - 2s 228ms/step - loss: 0.1346 - val_loss: 0.0898\n",
            "Epoch 2/100\n",
            "7/7 [==============================] - 0s 55ms/step - loss: 0.0310 - val_loss: 0.0876\n",
            "Epoch 3/100\n",
            "7/7 [==============================] - 0s 55ms/step - loss: 0.0102 - val_loss: 0.0308\n",
            "Epoch 4/100\n",
            "7/7 [==============================] - 0s 55ms/step - loss: 0.0062 - val_loss: 0.0096\n",
            "Epoch 5/100\n",
            "7/7 [==============================] - 0s 55ms/step - loss: 0.0056 - val_loss: 0.0012\n",
            "Epoch 6/100\n",
            "7/7 [==============================] - 0s 55ms/step - loss: 0.0025 - val_loss: 0.0076\n",
            "Epoch 7/100\n",
            "7/7 [==============================] - 0s 61ms/step - loss: 0.0027 - val_loss: 0.0012\n",
            "Epoch 8/100\n",
            "7/7 [==============================] - 0s 60ms/step - loss: 0.0024 - val_loss: 0.0027\n",
            "Epoch 9/100\n",
            "7/7 [==============================] - 0s 55ms/step - loss: 0.0026 - val_loss: 0.0054\n",
            "Epoch 10/100\n",
            "7/7 [==============================] - 0s 55ms/step - loss: 0.0029 - val_loss: 9.4296e-04\n",
            "Epoch 11/100\n",
            "7/7 [==============================] - 0s 56ms/step - loss: 0.0024 - val_loss: 0.0017\n",
            "Epoch 12/100\n",
            "7/7 [==============================] - 0s 64ms/step - loss: 0.0024 - val_loss: 0.0059\n",
            "Epoch 13/100\n",
            "7/7 [==============================] - 0s 56ms/step - loss: 0.0029 - val_loss: 4.9801e-04\n",
            "Epoch 14/100\n",
            "7/7 [==============================] - 0s 57ms/step - loss: 0.0026 - val_loss: 0.0038\n",
            "Epoch 15/100\n",
            "7/7 [==============================] - 0s 55ms/step - loss: 0.0030 - val_loss: 0.0014\n",
            "Epoch 16/100\n",
            "7/7 [==============================] - 0s 59ms/step - loss: 0.0027 - val_loss: 0.0030\n",
            "Epoch 17/100\n",
            "7/7 [==============================] - 0s 55ms/step - loss: 0.0027 - val_loss: 0.0024\n",
            "Epoch 18/100\n",
            "7/7 [==============================] - 0s 57ms/step - loss: 0.0028 - val_loss: 0.0088\n",
            "Epoch 19/100\n",
            "7/7 [==============================] - 0s 65ms/step - loss: 0.0027 - val_loss: 7.1913e-04\n",
            "Epoch 20/100\n",
            "7/7 [==============================] - 0s 58ms/step - loss: 0.0029 - val_loss: 0.0035\n",
            "Epoch 21/100\n",
            "7/7 [==============================] - 0s 57ms/step - loss: 0.0019 - val_loss: 5.6061e-04\n",
            "Epoch 22/100\n",
            "7/7 [==============================] - 0s 56ms/step - loss: 0.0022 - val_loss: 0.0024\n",
            "Epoch 23/100\n",
            "7/7 [==============================] - 0s 62ms/step - loss: 0.0018 - val_loss: 0.0040\n",
            "Epoch 24/100\n",
            "7/7 [==============================] - 0s 54ms/step - loss: 0.0023 - val_loss: 0.0020\n",
            "Epoch 25/100\n",
            "7/7 [==============================] - 0s 64ms/step - loss: 0.0020 - val_loss: 0.0013\n",
            "Epoch 26/100\n",
            "7/7 [==============================] - 0s 57ms/step - loss: 0.0027 - val_loss: 0.0022\n",
            "Epoch 27/100\n",
            "7/7 [==============================] - 0s 59ms/step - loss: 0.0018 - val_loss: 0.0065\n",
            "Epoch 28/100\n",
            "7/7 [==============================] - 0s 57ms/step - loss: 0.0030 - val_loss: 0.0032\n",
            "Epoch 29/100\n",
            "7/7 [==============================] - 0s 59ms/step - loss: 0.0023 - val_loss: 0.0022\n",
            "Epoch 30/100\n",
            "7/7 [==============================] - 0s 69ms/step - loss: 0.0026 - val_loss: 0.0034\n",
            "Epoch 31/100\n",
            "7/7 [==============================] - 0s 63ms/step - loss: 0.0015 - val_loss: 0.0032\n",
            "Epoch 32/100\n",
            "7/7 [==============================] - 0s 57ms/step - loss: 0.0020 - val_loss: 0.0152\n",
            "Epoch 33/100\n",
            "7/7 [==============================] - 0s 56ms/step - loss: 0.0032 - val_loss: 8.1222e-04\n",
            "Epoch 34/100\n",
            "7/7 [==============================] - 0s 57ms/step - loss: 0.0017 - val_loss: 0.0024\n",
            "Epoch 35/100\n",
            "7/7 [==============================] - 0s 66ms/step - loss: 0.0034 - val_loss: 0.0166\n",
            "Epoch 36/100\n",
            "7/7 [==============================] - 0s 62ms/step - loss: 0.0025 - val_loss: 5.8050e-04\n",
            "Epoch 37/100\n",
            "7/7 [==============================] - 0s 60ms/step - loss: 0.0019 - val_loss: 0.0023\n",
            "Epoch 38/100\n",
            "7/7 [==============================] - 0s 66ms/step - loss: 0.0023 - val_loss: 0.0021\n",
            "Epoch 39/100\n",
            "7/7 [==============================] - 0s 63ms/step - loss: 0.0025 - val_loss: 0.0015\n",
            "Epoch 40/100\n",
            "7/7 [==============================] - 0s 57ms/step - loss: 0.0021 - val_loss: 0.0112\n",
            "Epoch 41/100\n",
            "7/7 [==============================] - 0s 59ms/step - loss: 0.0027 - val_loss: 0.0014\n",
            "Epoch 42/100\n",
            "7/7 [==============================] - 0s 60ms/step - loss: 0.0021 - val_loss: 0.0012\n",
            "Epoch 43/100\n",
            "7/7 [==============================] - 0s 58ms/step - loss: 0.0018 - val_loss: 0.0027\n",
            "Epoch 44/100\n",
            "7/7 [==============================] - 0s 58ms/step - loss: 0.0019 - val_loss: 0.0038\n",
            "Epoch 45/100\n",
            "7/7 [==============================] - 0s 57ms/step - loss: 0.0023 - val_loss: 0.0059\n",
            "Epoch 46/100\n",
            "7/7 [==============================] - 0s 58ms/step - loss: 0.0027 - val_loss: 0.0131\n",
            "Epoch 47/100\n",
            "7/7 [==============================] - 0s 58ms/step - loss: 0.0022 - val_loss: 9.8139e-04\n",
            "Epoch 48/100\n",
            "7/7 [==============================] - 0s 61ms/step - loss: 0.0023 - val_loss: 0.0074\n",
            "Epoch 49/100\n",
            "7/7 [==============================] - 0s 59ms/step - loss: 0.0017 - val_loss: 0.0053\n",
            "Epoch 50/100\n",
            "7/7 [==============================] - 0s 59ms/step - loss: 0.0021 - val_loss: 0.0039\n",
            "Epoch 51/100\n",
            "7/7 [==============================] - 0s 59ms/step - loss: 0.0020 - val_loss: 0.0022\n",
            "Epoch 52/100\n",
            "7/7 [==============================] - 0s 60ms/step - loss: 0.0014 - val_loss: 0.0014\n",
            "Epoch 53/100\n",
            "7/7 [==============================] - 0s 61ms/step - loss: 0.0017 - val_loss: 4.4027e-04\n",
            "Epoch 54/100\n",
            "7/7 [==============================] - 0s 59ms/step - loss: 0.0020 - val_loss: 0.0019\n",
            "Epoch 55/100\n",
            "7/7 [==============================] - 0s 59ms/step - loss: 0.0017 - val_loss: 0.0041\n",
            "Epoch 56/100\n",
            "7/7 [==============================] - 0s 63ms/step - loss: 0.0020 - val_loss: 0.0041\n",
            "Epoch 57/100\n",
            "7/7 [==============================] - 1s 73ms/step - loss: 0.0018 - val_loss: 5.8785e-04\n",
            "Epoch 58/100\n",
            "7/7 [==============================] - 0s 64ms/step - loss: 0.0027 - val_loss: 0.0082\n",
            "Epoch 59/100\n",
            "7/7 [==============================] - 0s 58ms/step - loss: 0.0020 - val_loss: 0.0100\n",
            "Epoch 60/100\n",
            "7/7 [==============================] - 0s 58ms/step - loss: 0.0022 - val_loss: 7.7947e-04\n",
            "Epoch 61/100\n",
            "7/7 [==============================] - 0s 59ms/step - loss: 0.0017 - val_loss: 0.0019\n",
            "Epoch 62/100\n",
            "7/7 [==============================] - 0s 65ms/step - loss: 0.0014 - val_loss: 0.0032\n",
            "Epoch 63/100\n",
            "7/7 [==============================] - 0s 61ms/step - loss: 0.0017 - val_loss: 0.0025\n",
            "Epoch 64/100\n",
            "7/7 [==============================] - 0s 62ms/step - loss: 0.0020 - val_loss: 0.0048\n",
            "Epoch 65/100\n",
            "7/7 [==============================] - 0s 59ms/step - loss: 0.0018 - val_loss: 0.0056\n",
            "Epoch 66/100\n",
            "7/7 [==============================] - 0s 60ms/step - loss: 0.0016 - val_loss: 6.8690e-04\n",
            "Epoch 67/100\n",
            "7/7 [==============================] - 0s 57ms/step - loss: 0.0022 - val_loss: 0.0022\n",
            "Epoch 68/100\n",
            "7/7 [==============================] - 0s 62ms/step - loss: 0.0026 - val_loss: 0.0139\n",
            "Epoch 69/100\n",
            "7/7 [==============================] - 0s 60ms/step - loss: 0.0022 - val_loss: 0.0131\n",
            "Epoch 70/100\n",
            "7/7 [==============================] - 0s 59ms/step - loss: 0.0031 - val_loss: 0.0017\n",
            "Epoch 71/100\n",
            "7/7 [==============================] - 0s 59ms/step - loss: 0.0018 - val_loss: 0.0021\n",
            "Epoch 72/100\n",
            "7/7 [==============================] - 0s 59ms/step - loss: 0.0019 - val_loss: 0.0147\n",
            "Epoch 73/100\n",
            "7/7 [==============================] - 0s 59ms/step - loss: 0.0018 - val_loss: 0.0042\n",
            "Epoch 74/100\n",
            "7/7 [==============================] - 0s 64ms/step - loss: 0.0018 - val_loss: 7.2787e-04\n",
            "Epoch 75/100\n",
            "7/7 [==============================] - 0s 57ms/step - loss: 0.0021 - val_loss: 0.0119\n",
            "Epoch 76/100\n",
            "7/7 [==============================] - 0s 60ms/step - loss: 0.0017 - val_loss: 0.0077\n",
            "Epoch 77/100\n",
            "7/7 [==============================] - 0s 58ms/step - loss: 0.0017 - val_loss: 0.0010\n",
            "Epoch 78/100\n",
            "7/7 [==============================] - 0s 60ms/step - loss: 0.0013 - val_loss: 0.0033\n",
            "Epoch 79/100\n",
            "7/7 [==============================] - 0s 63ms/step - loss: 0.0019 - val_loss: 0.0114\n",
            "Epoch 80/100\n",
            "7/7 [==============================] - 0s 64ms/step - loss: 0.0026 - val_loss: 0.0025\n",
            "Epoch 81/100\n",
            "7/7 [==============================] - 0s 58ms/step - loss: 0.0013 - val_loss: 0.0026\n",
            "Epoch 82/100\n",
            "7/7 [==============================] - 0s 64ms/step - loss: 0.0020 - val_loss: 0.0022\n",
            "Epoch 83/100\n",
            "7/7 [==============================] - 0s 60ms/step - loss: 0.0017 - val_loss: 0.0018\n",
            "Epoch 84/100\n",
            "7/7 [==============================] - 0s 61ms/step - loss: 0.0018 - val_loss: 4.9128e-04\n",
            "Epoch 85/100\n",
            "7/7 [==============================] - 0s 60ms/step - loss: 0.0017 - val_loss: 0.0037\n",
            "Epoch 86/100\n",
            "7/7 [==============================] - 0s 57ms/step - loss: 0.0015 - val_loss: 0.0053\n",
            "Epoch 87/100\n",
            "7/7 [==============================] - 0s 60ms/step - loss: 0.0017 - val_loss: 0.0013\n",
            "Epoch 88/100\n",
            "7/7 [==============================] - 0s 59ms/step - loss: 0.0018 - val_loss: 0.0088\n",
            "Epoch 89/100\n",
            "7/7 [==============================] - 0s 59ms/step - loss: 0.0025 - val_loss: 0.0014\n",
            "Epoch 90/100\n",
            "7/7 [==============================] - 0s 57ms/step - loss: 0.0020 - val_loss: 7.3298e-04\n",
            "Epoch 91/100\n",
            "7/7 [==============================] - 0s 60ms/step - loss: 0.0026 - val_loss: 0.0234\n",
            "Epoch 92/100\n",
            "7/7 [==============================] - 0s 59ms/step - loss: 0.0028 - val_loss: 0.0021\n",
            "Epoch 93/100\n",
            "7/7 [==============================] - 0s 61ms/step - loss: 0.0019 - val_loss: 0.0080\n",
            "Epoch 94/100\n",
            "7/7 [==============================] - 0s 58ms/step - loss: 0.0017 - val_loss: 0.0185\n",
            "Epoch 95/100\n",
            "7/7 [==============================] - 0s 64ms/step - loss: 0.0018 - val_loss: 0.0040\n",
            "Epoch 96/100\n",
            "7/7 [==============================] - 0s 60ms/step - loss: 0.0015 - val_loss: 0.0015\n",
            "Epoch 97/100\n",
            "7/7 [==============================] - 0s 59ms/step - loss: 0.0018 - val_loss: 0.0082\n",
            "Epoch 98/100\n",
            "7/7 [==============================] - 0s 58ms/step - loss: 0.0016 - val_loss: 0.0060\n",
            "Epoch 99/100\n",
            "7/7 [==============================] - 0s 60ms/step - loss: 0.0015 - val_loss: 0.0043\n",
            "Epoch 100/100\n",
            "7/7 [==============================] - 0s 59ms/step - loss: 0.0016 - val_loss: 0.0011\n"
          ],
          "name": "stdout"
        },
        {
          "output_type": "execute_result",
          "data": {
            "text/plain": [
              "<tensorflow.python.keras.callbacks.History at 0x7fc2d50587b8>"
            ]
          },
          "metadata": {
            "tags": []
          },
          "execution_count": 48
        }
      ]
    },
    {
      "cell_type": "markdown",
      "metadata": {
        "id": "WG0q-Cd2bc3f"
      },
      "source": [
        "for 60 neurons per layer:\n",
        "loss: 0.0014 - val_loss: 0.0072, timestep=7\n",
        "\n",
        "loss: 0.0014 - val_loss: 0.0106, timestep=15\n",
        "\n",
        "loss: 0.0016 - val_loss: 0.0011, timestep=30 ---****go with this****\n",
        "\n",
        "loss: 0.0017 - val_loss: 0.0034, timestep=60\n",
        "\n",
        "*not so good for lower neurons..\n",
        "eg.\n",
        "loss: 0.0024 - val_loss: 0.005, timestep=30* w/ for 40 units l\n"
      ]
    },
    {
      "cell_type": "markdown",
      "metadata": {
        "id": "4hRau_lIkrE8"
      },
      "source": [
        "##Making the predictions "
      ]
    },
    {
      "cell_type": "code",
      "metadata": {
        "id": "QTB49dsfw_Gz",
        "outputId": "614487e3-618a-4094-d959-bcdca20c60af",
        "colab": {
          "base_uri": "https://localhost:8080/",
          "height": 510
        }
      },
      "source": [
        "#Predict and inverse transform\n",
        "predicted_cases_train = regressor.predict(X_train)\n",
        "predicted_cases_train = sc.inverse_transform(predicted_cases_train)\n",
        "\n",
        "predicted_cases_test= regressor.predict(X_test)\n",
        "predicted_cases_test=sc.inverse_transform(predicted_cases_test)\n",
        "\n",
        "train_y= sc.inverse_transform(y_train.reshape(-1,1))#reshape them expect 2d\n",
        "test_y= sc.inverse_transform(y_test.reshape(-1,1))\n",
        "\n",
        "\n",
        "print(math.sqrt(mean_squared_error(train_y, predicted_cases_train)))#train rmse\n",
        "print(math.sqrt(mean_squared_error(test_y, predicted_cases_test)))#test rmse\n",
        "\n",
        "\n",
        "predicted_cases_test"
      ],
      "execution_count": null,
      "outputs": [
        {
          "output_type": "stream",
          "text": [
            "154784.32420471034\n",
            "215448.13029953363\n"
          ],
          "name": "stdout"
        },
        {
          "output_type": "execute_result",
          "data": {
            "text/plain": [
              "array([[6777990.5],\n",
              "       [6803708.5],\n",
              "       [6829029. ],\n",
              "       [6854022. ],\n",
              "       [6878755. ],\n",
              "       [6903278. ],\n",
              "       [6927664. ],\n",
              "       [6951983.5],\n",
              "       [6976241.5],\n",
              "       [7000458. ],\n",
              "       [7024647.5],\n",
              "       [7048833. ],\n",
              "       [7073010. ],\n",
              "       [7097165.5],\n",
              "       [7121280.5],\n",
              "       [7145312. ],\n",
              "       [7169213. ],\n",
              "       [7192997.5],\n",
              "       [7216643.5],\n",
              "       [7240140.5],\n",
              "       [7263490.5],\n",
              "       [7286694.5],\n",
              "       [7309744. ],\n",
              "       [7332642. ],\n",
              "       [7355411. ],\n",
              "       [7378091. ],\n",
              "       [7400696.5]], dtype=float32)"
            ]
          },
          "metadata": {
            "tags": []
          },
          "execution_count": 49
        }
      ]
    },
    {
      "cell_type": "markdown",
      "metadata": {
        "id": "jXuUtBDCWi_4"
      },
      "source": [
        "The unnormalized root mean square error of the final model for:\n",
        "\n",
        "training= 154784.32420471034\n",
        "\n",
        "test= 215448.13029953363"
      ]
    },
    {
      "cell_type": "markdown",
      "metadata": {
        "id": "iFTNs3YHk6FQ"
      },
      "source": [
        "### Visualising the results"
      ]
    },
    {
      "cell_type": "code",
      "metadata": {
        "id": "8OUI8U49k9tH",
        "outputId": "c9b3b6d7-0b51-4d45-f740-e3bf62bf9447",
        "colab": {
          "base_uri": "https://localhost:8080/",
          "height": 573
        }
      },
      "source": [
        "plt.plot(train_y, color = 'red', label = 'Real covid cases')\n",
        "plt.plot(predicted_cases_train, color = 'blue', label = 'Predicted covid cases')\n",
        "plt.title('Covid Cases Prediction TRAINING')\n",
        "plt.xlabel('Time')\n",
        "plt.ylabel('Covid Cases')\n",
        "plt.legend()\n",
        "plt.show()\n",
        "\n",
        "\n",
        "plt.plot(test_y, color = 'red', label = 'Real covid cases')\n",
        "plt.plot(predicted_cases_test, color = 'green', label = 'Predicted covid cases')\n",
        "plt.title('Covid Cases Prediction TESTING')\n",
        "plt.xlabel('Time')\n",
        "plt.ylabel('Covid Cases')\n",
        "plt.legend()\n",
        "plt.show()\n"
      ],
      "execution_count": null,
      "outputs": [
        {
          "output_type": "display_data",
          "data": {
            "image/png": "[encoded data removed]",
            "text/plain": [
              "<Figure size 432x288 with 1 Axes>"
            ]
          },
          "metadata": {
            "tags": [],
            "needs_background": "light"
          }
        },
        {
          "output_type": "display_data",
          "data": {
            "image/png": "[encoded data removed]",
            "text/plain": [
              "<Figure size 432x288 with 1 Axes>"
            ]
          },
          "metadata": {
            "tags": [],
            "needs_background": "light"
          }
        }
      ]
    },
    {
      "cell_type": "markdown",
      "metadata": {
        "id": "VgAfB8uwCRQe"
      },
      "source": [
        "\n",
        "\n",
        "```\n",
        "# Model lacks behind for testing predictions. It follows that linear trend though.\n",
        "\n",
        "For training predictions, manages well enough to follow upward or downward trend.\n",
        "```\n",
        "\n"
      ]
    },
    {
      "cell_type": "markdown",
      "metadata": {
        "id": "VdUHdCZBCZWI"
      },
      "source": [
        "#BONUS:"
      ]
    },
    {
      "cell_type": "code",
      "metadata": {
        "id": "nlxC024qfkDy",
        "outputId": "c8700c30-3e40-4780-b8e0-8aae4b920dde",
        "colab": {
          "base_uri": "https://localhost:8080/",
          "height": 1000
        }
      },
      "source": [
        "future_data= covid[\"cases\"].values\n",
        "future_data = future_data.reshape((-1,1))\n",
        "future_data= sc.transform(future_data)\n",
        "\n",
        "def predict(num_prediction, model):\n",
        "    prediction_list = future_data[-29:]\n",
        "    \n",
        "    for _ in range(num_prediction):\n",
        "        x = prediction_list[-29:]\n",
        "        x = x.reshape((1, 29, 1))\n",
        "        out = model.predict(x)[0][0]\n",
        "        prediction_list = np.append(prediction_list, out)\n",
        "    prediction_list = prediction_list[29-1:]\n",
        "        \n",
        "    return prediction_list\n",
        "\n",
        "num_prediction = 80 #days left in the year as of 10/12\n",
        "forecast = predict(num_prediction, regressor)\n",
        "forecast=forecast.reshape((-1,1))\n",
        "forecast= sc.inverse_transform(forecast)\n",
        "#len(forecast)\n",
        "print(forecast) #doesn't look right"
      ],
      "execution_count": null,
      "outputs": [
        {
          "output_type": "stream",
          "text": [
            "[[7840482.        ]\n",
            " [7412238.38059425]\n",
            " [7434208.0192647 ]\n",
            " [7454726.05169058]\n",
            " [7473166.41847038]\n",
            " [7489138.81808805]\n",
            " [7502501.32271957]\n",
            " [7513340.66603518]\n",
            " [7521863.4318676 ]\n",
            " [7528330.60971546]\n",
            " [7533100.96157837]\n",
            " [7536496.1905241 ]\n",
            " [7538810.40254354]\n",
            " [7540287.24040127]\n",
            " [7541183.75115633]\n",
            " [7541681.28702831]\n",
            " [7541913.10247421]\n",
            " [7541965.14267635]\n",
            " [7541913.10247421]\n",
            " [7541790.09836006]\n",
            " [7541620.57345915]\n",
            " [7541439.22123957]\n",
            " [7541275.21575403]\n",
            " [7541119.88363552]\n",
            " [7540967.70546865]\n",
            " [7540802.91149521]\n",
            " [7540620.77078772]\n",
            " [7540426.80276155]\n",
            " [7540238.35415077]\n",
            " [7540068.82924986]\n",
            " [7539916.65108299]\n",
            " [7540646.79088879]\n",
            " [7541198.73242664]\n",
            " [7541606.38067675]\n",
            " [7541898.1212039 ]\n",
            " [7542103.12806082]\n",
            " [7542243.47890902]\n",
            " [7542342.82838583]\n",
            " [7542410.6383462 ]\n",
            " [7542465.04401207]\n",
            " [7542509.98782301]\n",
            " [7542549.41221857]\n",
            " [7542588.83661413]\n",
            " [7542633.78042507]\n",
            " [7542677.14726019]\n",
            " [7542721.30258322]\n",
            " [7542769.4003458 ]\n",
            " [7542818.2865963 ]\n",
            " [7542865.59587097]\n",
            " [7542912.90514565]\n",
            " [7542958.6374445 ]\n",
            " [7543003.58125544]\n",
            " [7543049.31355429]\n",
            " [7543090.31492567]\n",
            " [7543129.73932123]\n",
            " [7543165.22127724]\n",
            " [7543203.06869698]\n",
            " [7543236.18518925]\n",
            " [7543269.30168152]\n",
            " [7543299.26422215]\n",
            " [7543326.86129904]\n",
            " [7543353.66988802]\n",
            " [7543376.53603745]\n",
            " [7543397.82521105]\n",
            " [7543419.11438465]\n",
            " [7543435.67263079]\n",
            " [7543455.38482857]\n",
            " [7543471.15458679]\n",
            " [7543489.28980875]\n",
            " [7543503.48259115]\n",
            " [7543520.8293252 ]\n",
            " [7543533.44513178]\n",
            " [7543546.84942627]\n",
            " [7543561.04220867]\n",
            " [7543572.86952734]\n",
            " [7543584.69684601]\n",
            " [7543597.31265259]\n",
            " [7543605.98601961]\n",
            " [7543617.02485037]\n",
            " [7543626.4867053 ]\n",
            " [7543633.5830965 ]]\n"
          ],
          "name": "stdout"
        }
      ]
    },
    {
      "cell_type": "markdown",
      "metadata": {
        "id": "rkf1g_JFE4bY"
      },
      "source": [
        "From the fitted model, for future prediction of covid cases, we can expect to have about 7543634 cummulative cases at the end of the year, which looks uncertain here. There seems to be some noise which is amplified to a great extent"
      ]
    },
    {
      "cell_type": "code",
      "metadata": {
        "id": "-lS2_URh7C0Q",
        "outputId": "f98961fb-5004-4cde-bbfd-ce820ed4fc4b",
        "colab": {
          "base_uri": "https://localhost:8080/",
          "height": 51
        }
      },
      "source": [
        "!jupyter nbconvert --to html a3__AR_.ipynb"
      ],
      "execution_count": null,
      "outputs": [
        {
          "output_type": "stream",
          "text": [
            "[NbConvertApp] Converting notebook a3__AR_.ipynb to html\n",
            "[NbConvertApp] Writing 370681 bytes to a3__AR_.html\n"
          ],
          "name": "stdout"
        }
      ]
    }
  ]
}